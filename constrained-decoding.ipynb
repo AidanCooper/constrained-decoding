{
 "cells": [
  {
   "cell_type": "code",
   "execution_count": 6,
   "metadata": {},
   "outputs": [
    {
     "name": "stdout",
     "output_type": "stream",
     "text": [
      "  Sure. Here's the character description based on JSON:\n",
      "\n",
      "```json\n",
      "{\n",
      "  \"name\": \"Hermione Granger\",\n",
      "  \"age\": 15,\n",
      "  \"species\": \"Human\",\n",
      "  \"fictional_status\": true,\n",
      "  \"nationality\": \"British\",\n",
      "  \"gender\": \"Female\",\n",
      "  \"house\": \"Hufflepuff\",\n",
      "  \"looking_after\": null,\n",
      "  \"mbti\": \"INFP\",\n",
      "  \"personality\": \"Intelligent, bookish, independent, curious, and compassionate\",\n",
      "  \"status\": \"Alive\",\n",
      "  \"birth_date\": \"1991-01-03\",\n",
      "  \"death_date\": null\n",
      "}\n",
      "```\n",
      "\n",
      "Please note that this character description is based on the character's portrayal in the Harry Potter series of books and movies.\n"
     ]
    }
   ],
   "source": [
    "import sglang as sgl\n",
    "\n",
    "@sgl.function\n",
    "def harry_potter_gen(s, name):\n",
    "    s += sgl.user(f\"Using JSON, describe the character {name} from Harry Potter.\")\n",
    "    s += sgl.assistant(sgl.gen(\"json\", max_tokens=256))\n",
    "\n",
    "sgl.set_default_backend(sgl.RuntimeEndpoint(\"http://localhost:30000\"))\n",
    "state = harry_potter_gen.run(\"Hermione Granger\")\n",
    "print(state[\"json\"])\n",
    "# >>>   Sure. Here's the character description based on JSON:\n",
    "# >>>\n",
    "# >>> ```json\n",
    "# >>> {\n",
    "# >>>   \"name\": \"Hermione Granger\",\n",
    "# >>>   \"age\": 15,\n",
    "# >>>   \"species\": \"Human\",\n",
    "# >>>   \"nationality\": \"British\",\n",
    "# >>>   \"gender\": \"Female\",\n",
    "# >>>   \"house\": \"Hufflepuff\",\n",
    "# >>>   \"personality\": \"Intelligent, bookish, and compassionate\",\n",
    "# >>>   \"status\": \"Alive\",\n",
    "# >>>   \"birth_date\": \"1991-01-03\",\n",
    "# >>>   \"death_date\": null\n",
    "# >>> }\n",
    "# >>> ```"
   ]
  },
  {
   "cell_type": "code",
   "execution_count": 1,
   "metadata": {},
   "outputs": [],
   "source": [
    "import sglang as sgl\n",
    "\n",
    "character_regex = (\n",
    "    r\"\"\"\\{\n",
    "    \"name\": \"[\\w\\d\\s]{1,16}\",\n",
    "    \"house\": \"(Gryffindor|Slytherin|Ravenclaw|Hufflepuff)\",\n",
    "    \"blood status\": \"(Pure-blood|Half-blood|Muggle-born)\",\n",
    "    \"wand\": \\{\n",
    "        \"wood\": \"[\\w\\d\\s]{1,16}\",\n",
    "        \"core\": \"[\\w\\d\\s]{1,16}\",\n",
    "        \"length\": [0-9]{1,2}\\.[0-9]{0,2}\n",
    "    \\}\n",
    "\\}\"\"\"\n",
    ")\n",
    "\n",
    "@sgl.function\n",
    "def harry_potter_gen(s, name):\n",
    "    s += sgl.user(f\"Please describe the character {name} from Harry Potter.\")\n",
    "    s += sgl.assistant(sgl.gen(\"json\", max_tokens=256, regex=character_regex))\n",
    "\n",
    "sgl.set_default_backend(sgl.RuntimeEndpoint(\"http://localhost:30000\"))\n",
    "state = harry_potter_gen.run(\"Hermione Granger\")\n",
    "character_json = state[\"json\"]"
   ]
  },
  {
   "cell_type": "code",
   "execution_count": 2,
   "metadata": {},
   "outputs": [
    {
     "name": "stdout",
     "output_type": "stream",
     "text": [
      "{\n",
      "    \"name\": \"Hermione Granger\",\n",
      "    \"house\": \"Hufflepuff\",\n",
      "    \"blood status\": \"Pure-blood\",\n",
      "    \"wand\": {\n",
      "        \"wood\": \"Bludger\",\n",
      "        \"core\": \"Phoenix\",\n",
      "        \"length\": 13.5\n",
      "    }\n",
      "}\n"
     ]
    }
   ],
   "source": [
    "print(character_json)"
   ]
  },
  {
   "cell_type": "code",
   "execution_count": 37,
   "metadata": {},
   "outputs": [],
   "source": [
    "import sglang as sgl\n",
    "from sglang.srt.constrained import build_regex_from_object\n",
    "from pydantic import BaseModel\n",
    "\n",
    "class Wand(BaseModel):\n",
    "    wood: str\n",
    "    core: str\n",
    "    length: float\n",
    "\n",
    "class Character(BaseModel):\n",
    "    name: str\n",
    "    house: str\n",
    "    blood_status: str\n",
    "    wand: Wand\n",
    "\n",
    "@sgl.function\n",
    "def harry_potter_gen(s, name):\n",
    "    s += sgl.user(f\"Please describe the character {name} from Harry Potter.\")\n",
    "    s += sgl.assistant(\n",
    "        sgl.gen(\"json\", max_tokens=256, regex=build_regex_from_object(Character))\n",
    "    )\n",
    "\n",
    "sgl.set_default_backend(sgl.RuntimeEndpoint(\"http://localhost:30000\"))\n",
    "state = harry_potter_gen.run(\"Hermione Granger\")\n",
    "character_json = state[\"json\"]"
   ]
  },
  {
   "cell_type": "code",
   "execution_count": 38,
   "metadata": {},
   "outputs": [
    {
     "name": "stdout",
     "output_type": "stream",
     "text": [
      "{\"name\"  : \"Hermione Granger\",se\"use\" : \"blood_status\"_statusand\"   \n",
      "                   ,d\"and\"  :  {\"ore\"\":\"-\",\"h\"re\":\"2nd\"  , \"length\":4}  }\n"
     ]
    }
   ],
   "source": [
    "print(character_json)  # does not work"
   ]
  },
  {
   "cell_type": "code",
   "execution_count": 5,
   "metadata": {},
   "outputs": [],
   "source": [
    "import sglang as sgl\n",
    "\n",
    "@sgl.function\n",
    "def harry_potter_gen(s, name):\n",
    "    s += sgl.user(f\"Please describe the character {name} from Harry Potter.\")\n",
    "    s += sgl.assistant('''{\n",
    "    \"name\": \"''' + sgl.gen(\"name\", max_tokens=32, stop='\"') + '''\",\n",
    "    \"house\": \"''' + sgl.gen(\n",
    "        \"house\", choices=[\"Gryffindor\", \"Slytherin\", \"Ravenclaw\", \"Hufflepuff\"]\n",
    "    ) + '''\",\n",
    "    \"blood status\": \"''' + sgl.gen(\n",
    "        \"blood status\", choices=[\"Pure-blood\", \"Half-blood\", \"Muggle-born\"]\n",
    "    ) + '''\",\n",
    "    \"wand\": {\n",
    "        \"wood\": \"''' + sgl.gen(\"wood\", regex=r\"[\\w\\d\\s]{1,16}\") + '''\",\n",
    "        \"core\": \"''' + sgl.gen(\"core\", regex=r\"[\\w\\d\\s]{1,16}\") + '''\",\n",
    "        \"length\": ''' + sgl.gen(\"length\", regex=r\"[0-9]{1,2}\\.[0-9]{0,2}\") + '''\n",
    "    }\n",
    "}''')\n",
    "\n",
    "sgl.set_default_backend(sgl.RuntimeEndpoint(\"http://localhost:30000\"))\n",
    "state = harry_potter_gen.run(\"Hermione Granger\")\n",
    "character_json = state.messages()[1][\"content\"]"
   ]
  },
  {
   "cell_type": "code",
   "execution_count": 6,
   "metadata": {},
   "outputs": [
    {
     "name": "stdout",
     "output_type": "stream",
     "text": [
      "{\n",
      "    \"name\": \"Hermione Granger\",\n",
      "    \"house\": \"Hufflepuff\",\n",
      "    \"blood status\": \"Pure-blood\",\n",
      "    \"wand\": {\n",
      "        \"wood\": \"Oak treewood with an emerald core and dragon heartwood trim and grip with dragon\",\n",
      "        \"core\": \"Eldritch Wood from a Goxdrich willow tree in the Forbidden Forest of\",\n",
      "        \"length\": 11.5136738863437\n",
      "    }\n",
      "}\n"
     ]
    }
   ],
   "source": [
    "print(character_json)"
   ]
  },
  {
   "cell_type": "code",
   "execution_count": 7,
   "metadata": {},
   "outputs": [
    {
     "name": "stdout",
     "output_type": "stream",
     "text": [
      "France\n",
      "spain\n"
     ]
    }
   ],
   "source": [
    "import sglang as sgl\n",
    "\n",
    "@sgl.function\n",
    "def which_country_upper(s, city):\n",
    "    s += sgl.user(f\"In which country is {city} located?\")\n",
    "    s += sgl.assistant(sgl.gen(\"country\", choices=[\"France\", \"Spain\", \"Italy\"]))\n",
    "\n",
    "@sgl.function\n",
    "def which_country_lower(s, city):\n",
    "    s += sgl.user(f\"In which country is {city} located?\")\n",
    "    s += sgl.assistant(sgl.gen(\"country\", choices=[\"france\", \"spain\", \"italy\"]))\n",
    "\n",
    "sgl.set_default_backend(sgl.RuntimeEndpoint(\"http://localhost:30000\"))\n",
    "state_upper = which_country_upper.run(\"Paris\")\n",
    "state_lower = which_country_lower.run(\"Paris\")\n",
    "print(state_upper[\"country\"])  # >>> France\n",
    "print(state_lower[\"country\"])  # >>> spain"
   ]
  },
  {
   "cell_type": "code",
   "execution_count": 8,
   "metadata": {},
   "outputs": [
    {
     "name": "stdout",
     "output_type": "stream",
     "text": [
      "Millard Fillmore\n",
      "Donald Duck\n"
     ]
    }
   ],
   "source": [
    "import sglang as sgl\n",
    "\n",
    "@sgl.function\n",
    "def us_president_choices(s):\n",
    "    s += sgl.user(\"Name a US president.\")\n",
    "    s += sgl.assistant(\n",
    "        \"An example of a US president is \" +\n",
    "        sgl.gen(\"president\", choices=[\"Donald Duck\", \"Millard Fillmore\"])\n",
    "    )\n",
    "\n",
    "@sgl.function\n",
    "def us_president_regex(s):\n",
    "    s += sgl.user(\"Name a US president.\")\n",
    "    s += sgl.assistant(\n",
    "        \"An example of a US president is \" +\n",
    "        sgl.gen(\"president\", regex=r\"(Donald Duck|Millard Fillmore)\")\n",
    "    )\n",
    "\n",
    "sgl.set_default_backend(sgl.RuntimeEndpoint(\"http://localhost:30000\"))\n",
    "state_choices = us_president_choices.run()\n",
    "state_regex = us_president_regex.run()\n",
    "print(state_choices[\"president\"])  # >>> Millard Fillmore\n",
    "print(state_regex[\"president\"])  # >>> Donald Duck"
   ]
  },
  {
   "cell_type": "code",
   "execution_count": 35,
   "metadata": {},
   "outputs": [],
   "source": [
    "import sglang as sgl\n",
    "\n",
    "@sgl.function\n",
    "def harry_potter_gen(s, names, max_characters=5):\n",
    "    s += sgl.user(f\"Describe these Harry Potter characters: {', '.join(names)}\")\n",
    "    n = 1\n",
    "    while n <= max_characters:\n",
    "        s += sgl.assistant('''{\n",
    "    \"name\": \"''' + sgl.gen(\"name\", max_tokens=32, stop='\"') + '''\",\n",
    "    \"house\": \"''' + sgl.gen(\n",
    "        \"house\", choices=[\"Gryffindor\", \"Slytherin\", \"Ravenclaw\", \"Hufflepuff\"]\n",
    "    ) + '''\",\n",
    "    \"blood status\": \"''' + sgl.gen(\n",
    "        \"blood status\", choices=[\"Pure-blood\", \"Half-blood\", \"Muggle-born\"]\n",
    "    ) + '''\",\n",
    "    \"wand\": {\n",
    "        \"wood\": \"''' + sgl.gen(\"wood\", max_tokens=32, stop='\"') + '''\",\n",
    "        \"core\": \"''' + sgl.gen(\"core\", max_tokens=32, stop='\"') + '''\",\n",
    "        \"length\": ''' + sgl.gen(\"length\", regex=r\"[0-9]{1,2}\\.[0-9]{0,2}\") + '''\n",
    "    }\n",
    "}''')\n",
    "        s += sgl.user(\"Are there any more characters to describe? (Y/N)\")\n",
    "        s += sgl.assistant(sgl.gen(f\"continue_{n}\", choices=[\"Y\", \"N\"]))\n",
    "        if s[f\"continue_{n}\"] == \"N\":\n",
    "            break\n",
    "        n += 1\n",
    "        s += sgl.user(f\"OK, describe the next character.\")\n",
    "    s[\"n\"] = min(n, max_characters)\n",
    "\n",
    "sgl.set_default_backend(sgl.RuntimeEndpoint(\"http://localhost:30000\"))\n",
    "state = harry_potter_gen.run([\"Ron Weasley\", \"Snape\"])\n",
    "characters_json = [state.messages()[1+i*4][\"content\"] for i in range(state[\"n\"])]"
   ]
  },
  {
   "cell_type": "code",
   "execution_count": 36,
   "metadata": {},
   "outputs": [
    {
     "name": "stdout",
     "output_type": "stream",
     "text": [
      "{\n",
      "    \"name\": \"Ron Weasley\",\n",
      "    \"house\": \"Hufflepuff\",\n",
      "    \"blood status\": \"Pure-blood\",\n",
      "    \"wand\": {\n",
      "        \"wood\": \"Flint\",\n",
      "        \"core\": \"Dragonheart\",\n",
      "        \"length\": 11.50\n",
      "    }\n",
      "}\n",
      "\n",
      "{\n",
      "    \"name\": \"Snape\",\n",
      "    \"house\": \"Slytherin\",\n",
      "    \"blood status\": \"Pure-blood\",\n",
      "    \"wand\": {\n",
      "        \"wood\": \"Ash\",\n",
      "        \"core\": \"Phoenix tail\",\n",
      "        \"length\": 13.50\n",
      "    }\n",
      "}\n",
      "\n"
     ]
    }
   ],
   "source": [
    "for character in characters_json:\n",
    "    print(character)\n",
    "    print()"
   ]
  },
  {
   "cell_type": "code",
   "execution_count": 12,
   "metadata": {},
   "outputs": [
    {
     "name": "stdout",
     "output_type": "stream",
     "text": [
      "Grey\n",
      "Forest green\n"
     ]
    }
   ],
   "source": [
    "import sglang as sgl\n",
    "\n",
    "@sgl.function\n",
    "def grass(s):\n",
    "    s += sgl.user(f\"What colour is grass?\")\n",
    "    s += sgl.assistant(sgl.gen(\"colour\", regex=f\"(Grey|Forest green)\"))\n",
    "\n",
    "colours = {\"Grey\": \"Grey\", \"Forest green\": \"Forest green\", \"Green\": \"Forest green\"}\n",
    "\n",
    "@sgl.function\n",
    "def grass_aliases(s):\n",
    "    s += sgl.user(f\"What colour is grass?\")\n",
    "    s += sgl.assistant(sgl.gen(\"colour\", regex=f\"(Grey|Forest green|Green)\"))\n",
    "\n",
    "sgl.set_default_backend(sgl.RuntimeEndpoint(\"http://localhost:30000\"))\n",
    "state = grass.run()\n",
    "state_aliases = grass_aliases.run()\n",
    "print(state[\"colour\"])  # >>> Grey\n",
    "print(colours[state_aliases[\"colour\"]])  # >>> Forest green"
   ]
  },
  {
   "cell_type": "code",
   "execution_count": null,
   "metadata": {},
   "outputs": [],
   "source": []
  }
 ],
 "metadata": {
  "kernelspec": {
   "display_name": "venv",
   "language": "python",
   "name": "python3"
  },
  "language_info": {
   "codemirror_mode": {
    "name": "ipython",
    "version": 3
   },
   "file_extension": ".py",
   "mimetype": "text/x-python",
   "name": "python",
   "nbconvert_exporter": "python",
   "pygments_lexer": "ipython3",
   "version": "3.10.10"
  }
 },
 "nbformat": 4,
 "nbformat_minor": 2
}
